{
 "cells": [
  {
   "cell_type": "markdown",
   "source": [
    "참고 //\n",
    "OpenAI ChatGPT API를 활용해 추천 시스템 구현하기(feat. HuggingFace), 이수진의 블로그\n",
    "https://lsjsj92.tistory.com/657\n",
    "\n",
    "lsjsj92/recommender_system_with_Python\n",
    "https://github.com/lsjsj92/recommender_system_with_Python/blob/master/009_chatgpt_recsys.ipynb\n",
    "\n",
    "HuggingFace model\n",
    "snunlp/KR-SBERT-V40K-klueNLI-augSTS\n",
    "https://huggingface.co/snunlp/KR-SBERT-V40K-klueNLI-augSTS/tree/main\n",
    "\n",
    "DataSet\n",
    "TourAPI, 한국관광공사\n",
    "https://api.visitkorea.or.kr/#/"
   ],
   "metadata": {
    "collapsed": false
   }
  },
  {
   "cell_type": "code",
   "execution_count": 1,
   "metadata": {
    "ExecuteTime": {
     "end_time": "2023-05-30T17:18:33.072210700Z",
     "start_time": "2023-05-30T17:18:28.605086900Z"
    }
   },
   "outputs": [],
   "source": [
    "import os\n",
    "import torch\n",
    "from sentence_transformers import SentenceTransformer, util\n",
    "from transformers import AutoTokenizer, AutoModel\n",
    "import openai\n",
    "import pandas as pd\n",
    "from dotenv import load_dotenv"
   ]
  },
  {
   "cell_type": "code",
   "execution_count": 35,
   "metadata": {
    "ExecuteTime": {
     "end_time": "2023-05-31T03:07:10.888214200Z",
     "start_time": "2023-05-31T03:07:10.874367200Z"
    }
   },
   "outputs": [],
   "source": [
    "load_dotenv()\n",
    "openai.api_key = os.environ.get(\"OPENAI_API_KEY\")\n",
    "# cur_os = sys.platform\n",
    "# model_path = f\"D:/github\" if cur_os.startswith('win') else None"
   ]
  },
  {
   "cell_type": "code",
   "execution_count": 3,
   "metadata": {
    "ExecuteTime": {
     "end_time": "2023-05-30T17:18:40.782622900Z",
     "start_time": "2023-05-30T17:18:40.701124500Z"
    }
   },
   "outputs": [
    {
     "name": "stdout",
     "output_type": "stream",
     "text": [
      "(2004, 21)\n"
     ]
    },
    {
     "data": {
      "text/plain": "   Unnamed: 0                  addr1  addr2  areacode  booktour cat1   cat2   \n0           0      인천광역시 중구 연안부두로 61    NaN         2       NaN  A05  A0502  \\\n1           1     인천광역시 계양구 경명대로 977    NaN         2       NaN  A05  A0502   \n2           2    인천광역시 남동구 오봉동로4번길 9  (도림동)         2       NaN  A05  A0502   \n3           3  인천광역시 미추홀구 소성로326번길 4    NaN         2       NaN  A05  A0502   \n4           4      인천광역시 부평구 평천로 394    NaN         2       NaN  A05  A0502   \n\n        cat3  contentid  contenttypeid  ...   \n0  A05020100     597467             39  ...  \\\n1  A05020100    2876098             39  ...   \n2  A05020100    2768130             39  ...   \n3  A05020100     135696             39  ...   \n4  A05020400     600680             39  ...   \n\n                                          firstimage   \n0  http://tong.visitkorea.or.kr/cms/resource/74/1...  \\\n1  http://tong.visitkorea.or.kr/cms/resource/96/2...   \n2                                                NaN   \n3  http://tong.visitkorea.or.kr/cms/resource/54/1...   \n4  http://tong.visitkorea.or.kr/cms/resource/71/1...   \n\n                                         firstimage2        mapx       mapy   \n0  http://tong.visitkorea.or.kr/cms/resource/74/1...  126.599864  37.453488  \\\n1  http://tong.visitkorea.or.kr/cms/resource/96/2...  126.715515  37.544160   \n2                                                NaN  126.729889  37.416801   \n3  http://tong.visitkorea.or.kr/cms/resource/54/1...  126.683246  37.437397   \n4  http://tong.visitkorea.or.kr/cms/resource/71/1...  126.734017  37.517217   \n\n   mlevel  modifiedtime  sigungucode           tel     title zipcode  \n0     6.0  2.022120e+13           10  032-882-8505     가덕도횟집   22348  \n1     6.0  2.022100e+13            2           NaN  가든파티 계양점   21042  \n2     6.0  2.022120e+13            4           NaN    가리비칼국수   21656  \n3     6.0  2.022100e+13            3  032-426-7270    가마솥손두부   22238  \n4     6.0  2.022080e+13            6  032-512-8552        가보   21323  \n\n[5 rows x 21 columns]",
      "text/html": "<div>\n<style scoped>\n    .dataframe tbody tr th:only-of-type {\n        vertical-align: middle;\n    }\n\n    .dataframe tbody tr th {\n        vertical-align: top;\n    }\n\n    .dataframe thead th {\n        text-align: right;\n    }\n</style>\n<table border=\"1\" class=\"dataframe\">\n  <thead>\n    <tr style=\"text-align: right;\">\n      <th></th>\n      <th>Unnamed: 0</th>\n      <th>addr1</th>\n      <th>addr2</th>\n      <th>areacode</th>\n      <th>booktour</th>\n      <th>cat1</th>\n      <th>cat2</th>\n      <th>cat3</th>\n      <th>contentid</th>\n      <th>contenttypeid</th>\n      <th>...</th>\n      <th>firstimage</th>\n      <th>firstimage2</th>\n      <th>mapx</th>\n      <th>mapy</th>\n      <th>mlevel</th>\n      <th>modifiedtime</th>\n      <th>sigungucode</th>\n      <th>tel</th>\n      <th>title</th>\n      <th>zipcode</th>\n    </tr>\n  </thead>\n  <tbody>\n    <tr>\n      <th>0</th>\n      <td>0</td>\n      <td>인천광역시 중구 연안부두로 61</td>\n      <td>NaN</td>\n      <td>2</td>\n      <td>NaN</td>\n      <td>A05</td>\n      <td>A0502</td>\n      <td>A05020100</td>\n      <td>597467</td>\n      <td>39</td>\n      <td>...</td>\n      <td>http://tong.visitkorea.or.kr/cms/resource/74/1...</td>\n      <td>http://tong.visitkorea.or.kr/cms/resource/74/1...</td>\n      <td>126.599864</td>\n      <td>37.453488</td>\n      <td>6.0</td>\n      <td>2.022120e+13</td>\n      <td>10</td>\n      <td>032-882-8505</td>\n      <td>가덕도횟집</td>\n      <td>22348</td>\n    </tr>\n    <tr>\n      <th>1</th>\n      <td>1</td>\n      <td>인천광역시 계양구 경명대로 977</td>\n      <td>NaN</td>\n      <td>2</td>\n      <td>NaN</td>\n      <td>A05</td>\n      <td>A0502</td>\n      <td>A05020100</td>\n      <td>2876098</td>\n      <td>39</td>\n      <td>...</td>\n      <td>http://tong.visitkorea.or.kr/cms/resource/96/2...</td>\n      <td>http://tong.visitkorea.or.kr/cms/resource/96/2...</td>\n      <td>126.715515</td>\n      <td>37.544160</td>\n      <td>6.0</td>\n      <td>2.022100e+13</td>\n      <td>2</td>\n      <td>NaN</td>\n      <td>가든파티 계양점</td>\n      <td>21042</td>\n    </tr>\n    <tr>\n      <th>2</th>\n      <td>2</td>\n      <td>인천광역시 남동구 오봉동로4번길 9</td>\n      <td>(도림동)</td>\n      <td>2</td>\n      <td>NaN</td>\n      <td>A05</td>\n      <td>A0502</td>\n      <td>A05020100</td>\n      <td>2768130</td>\n      <td>39</td>\n      <td>...</td>\n      <td>NaN</td>\n      <td>NaN</td>\n      <td>126.729889</td>\n      <td>37.416801</td>\n      <td>6.0</td>\n      <td>2.022120e+13</td>\n      <td>4</td>\n      <td>NaN</td>\n      <td>가리비칼국수</td>\n      <td>21656</td>\n    </tr>\n    <tr>\n      <th>3</th>\n      <td>3</td>\n      <td>인천광역시 미추홀구 소성로326번길 4</td>\n      <td>NaN</td>\n      <td>2</td>\n      <td>NaN</td>\n      <td>A05</td>\n      <td>A0502</td>\n      <td>A05020100</td>\n      <td>135696</td>\n      <td>39</td>\n      <td>...</td>\n      <td>http://tong.visitkorea.or.kr/cms/resource/54/1...</td>\n      <td>http://tong.visitkorea.or.kr/cms/resource/54/1...</td>\n      <td>126.683246</td>\n      <td>37.437397</td>\n      <td>6.0</td>\n      <td>2.022100e+13</td>\n      <td>3</td>\n      <td>032-426-7270</td>\n      <td>가마솥손두부</td>\n      <td>22238</td>\n    </tr>\n    <tr>\n      <th>4</th>\n      <td>4</td>\n      <td>인천광역시 부평구 평천로 394</td>\n      <td>NaN</td>\n      <td>2</td>\n      <td>NaN</td>\n      <td>A05</td>\n      <td>A0502</td>\n      <td>A05020400</td>\n      <td>600680</td>\n      <td>39</td>\n      <td>...</td>\n      <td>http://tong.visitkorea.or.kr/cms/resource/71/1...</td>\n      <td>http://tong.visitkorea.or.kr/cms/resource/71/1...</td>\n      <td>126.734017</td>\n      <td>37.517217</td>\n      <td>6.0</td>\n      <td>2.022080e+13</td>\n      <td>6</td>\n      <td>032-512-8552</td>\n      <td>가보</td>\n      <td>21323</td>\n    </tr>\n  </tbody>\n</table>\n<p>5 rows × 21 columns</p>\n</div>"
     },
     "execution_count": 3,
     "metadata": {},
     "output_type": "execute_result"
    }
   ],
   "source": [
    "metadata = pd.read_csv('./tourInfo_copy.csv')\n",
    "print(metadata.shape)\n",
    "metadata.head()"
   ]
  },
  {
   "cell_type": "code",
   "execution_count": 4,
   "metadata": {
    "ExecuteTime": {
     "end_time": "2023-05-30T17:18:44.024620100Z",
     "start_time": "2023-05-30T17:18:43.998801800Z"
    }
   },
   "outputs": [
    {
     "data": {
      "text/plain": "                   addr1  addr2   \n0      인천광역시 중구 연안부두로 61    NaN  \\\n1     인천광역시 계양구 경명대로 977    NaN   \n2    인천광역시 남동구 오봉동로4번길 9  (도림동)   \n3  인천광역시 미추홀구 소성로326번길 4    NaN   \n4      인천광역시 부평구 평천로 394    NaN   \n\n                                          firstimage   \n0  http://tong.visitkorea.or.kr/cms/resource/74/1...  \\\n1  http://tong.visitkorea.or.kr/cms/resource/96/2...   \n2                                                NaN   \n3  http://tong.visitkorea.or.kr/cms/resource/54/1...   \n4  http://tong.visitkorea.or.kr/cms/resource/71/1...   \n\n                                         firstimage2        mapx       mapy   \n0  http://tong.visitkorea.or.kr/cms/resource/74/1...  126.599864  37.453488  \\\n1  http://tong.visitkorea.or.kr/cms/resource/96/2...  126.715515  37.544160   \n2                                                NaN  126.729889  37.416801   \n3  http://tong.visitkorea.or.kr/cms/resource/54/1...  126.683246  37.437397   \n4  http://tong.visitkorea.or.kr/cms/resource/71/1...  126.734017  37.517217   \n\n            tel     title  \n0  032-882-8505     가덕도횟집  \n1           NaN  가든파티 계양점  \n2           NaN    가리비칼국수  \n3  032-426-7270    가마솥손두부  \n4  032-512-8552        가보  ",
      "text/html": "<div>\n<style scoped>\n    .dataframe tbody tr th:only-of-type {\n        vertical-align: middle;\n    }\n\n    .dataframe tbody tr th {\n        vertical-align: top;\n    }\n\n    .dataframe thead th {\n        text-align: right;\n    }\n</style>\n<table border=\"1\" class=\"dataframe\">\n  <thead>\n    <tr style=\"text-align: right;\">\n      <th></th>\n      <th>addr1</th>\n      <th>addr2</th>\n      <th>firstimage</th>\n      <th>firstimage2</th>\n      <th>mapx</th>\n      <th>mapy</th>\n      <th>tel</th>\n      <th>title</th>\n    </tr>\n  </thead>\n  <tbody>\n    <tr>\n      <th>0</th>\n      <td>인천광역시 중구 연안부두로 61</td>\n      <td>NaN</td>\n      <td>http://tong.visitkorea.or.kr/cms/resource/74/1...</td>\n      <td>http://tong.visitkorea.or.kr/cms/resource/74/1...</td>\n      <td>126.599864</td>\n      <td>37.453488</td>\n      <td>032-882-8505</td>\n      <td>가덕도횟집</td>\n    </tr>\n    <tr>\n      <th>1</th>\n      <td>인천광역시 계양구 경명대로 977</td>\n      <td>NaN</td>\n      <td>http://tong.visitkorea.or.kr/cms/resource/96/2...</td>\n      <td>http://tong.visitkorea.or.kr/cms/resource/96/2...</td>\n      <td>126.715515</td>\n      <td>37.544160</td>\n      <td>NaN</td>\n      <td>가든파티 계양점</td>\n    </tr>\n    <tr>\n      <th>2</th>\n      <td>인천광역시 남동구 오봉동로4번길 9</td>\n      <td>(도림동)</td>\n      <td>NaN</td>\n      <td>NaN</td>\n      <td>126.729889</td>\n      <td>37.416801</td>\n      <td>NaN</td>\n      <td>가리비칼국수</td>\n    </tr>\n    <tr>\n      <th>3</th>\n      <td>인천광역시 미추홀구 소성로326번길 4</td>\n      <td>NaN</td>\n      <td>http://tong.visitkorea.or.kr/cms/resource/54/1...</td>\n      <td>http://tong.visitkorea.or.kr/cms/resource/54/1...</td>\n      <td>126.683246</td>\n      <td>37.437397</td>\n      <td>032-426-7270</td>\n      <td>가마솥손두부</td>\n    </tr>\n    <tr>\n      <th>4</th>\n      <td>인천광역시 부평구 평천로 394</td>\n      <td>NaN</td>\n      <td>http://tong.visitkorea.or.kr/cms/resource/71/1...</td>\n      <td>http://tong.visitkorea.or.kr/cms/resource/71/1...</td>\n      <td>126.734017</td>\n      <td>37.517217</td>\n      <td>032-512-8552</td>\n      <td>가보</td>\n    </tr>\n  </tbody>\n</table>\n</div>"
     },
     "execution_count": 4,
     "metadata": {},
     "output_type": "execute_result"
    }
   ],
   "source": [
    "metadata = metadata[['addr1','addr2','firstimage','firstimage2', 'mapx', 'mapy', 'tel', 'title']]\n",
    "metadata.head()"
   ]
  },
  {
   "cell_type": "markdown",
   "metadata": {},
   "source": []
  },
  {
   "cell_type": "code",
   "execution_count": 18,
   "metadata": {
    "ExecuteTime": {
     "end_time": "2023-05-30T17:37:57.365547300Z",
     "start_time": "2023-05-30T17:37:31.834301100Z"
    }
   },
   "outputs": [
    {
     "data": {
      "text/plain": "Downloading (…)635b2/.gitattributes:   0%|          | 0.00/1.23k [00:00<?, ?B/s]",
      "application/vnd.jupyter.widget-view+json": {
       "version_major": 2,
       "version_minor": 0,
       "model_id": "238d191ee80748e1bcc404d819bcf227"
      }
     },
     "metadata": {},
     "output_type": "display_data"
    },
    {
     "data": {
      "text/plain": "Downloading (…)_Pooling/config.json:   0%|          | 0.00/190 [00:00<?, ?B/s]",
      "application/vnd.jupyter.widget-view+json": {
       "version_major": 2,
       "version_minor": 0,
       "model_id": "597915a217f54c7bb3cd1a48014ad481"
      }
     },
     "metadata": {},
     "output_type": "display_data"
    },
    {
     "data": {
      "text/plain": "Downloading (…)3f97e635b2/README.md:   0%|          | 0.00/4.02k [00:00<?, ?B/s]",
      "application/vnd.jupyter.widget-view+json": {
       "version_major": 2,
       "version_minor": 0,
       "model_id": "6d2996ba55d54cf4bc352caf25a6209b"
      }
     },
     "metadata": {},
     "output_type": "display_data"
    },
    {
     "data": {
      "text/plain": "Downloading (…)97e635b2/config.json:   0%|          | 0.00/707 [00:00<?, ?B/s]",
      "application/vnd.jupyter.widget-view+json": {
       "version_major": 2,
       "version_minor": 0,
       "model_id": "5e82e477d5a44f8b928d1988b3592cf2"
      }
     },
     "metadata": {},
     "output_type": "display_data"
    },
    {
     "data": {
      "text/plain": "Downloading (…)ce_transformers.json:   0%|          | 0.00/124 [00:00<?, ?B/s]",
      "application/vnd.jupyter.widget-view+json": {
       "version_major": 2,
       "version_minor": 0,
       "model_id": "47c33e16d98441e8910598489bf7cdc0"
      }
     },
     "metadata": {},
     "output_type": "display_data"
    },
    {
     "data": {
      "text/plain": "Downloading pytorch_model.bin:   0%|          | 0.00/467M [00:00<?, ?B/s]",
      "application/vnd.jupyter.widget-view+json": {
       "version_major": 2,
       "version_minor": 0,
       "model_id": "db532a3af0984d1ba10a833d34c8f05a"
      }
     },
     "metadata": {},
     "output_type": "display_data"
    },
    {
     "data": {
      "text/plain": "Downloading (…)nce_bert_config.json:   0%|          | 0.00/53.0 [00:00<?, ?B/s]",
      "application/vnd.jupyter.widget-view+json": {
       "version_major": 2,
       "version_minor": 0,
       "model_id": "d5d9ba4ded5445a6afac3d8f90b000f6"
      }
     },
     "metadata": {},
     "output_type": "display_data"
    },
    {
     "data": {
      "text/plain": "Downloading (…)cial_tokens_map.json:   0%|          | 0.00/112 [00:00<?, ?B/s]",
      "application/vnd.jupyter.widget-view+json": {
       "version_major": 2,
       "version_minor": 0,
       "model_id": "6891fcb0e6884e489a1e8f2015b6dc6d"
      }
     },
     "metadata": {},
     "output_type": "display_data"
    },
    {
     "data": {
      "text/plain": "Downloading (…)635b2/tokenizer.json:   0%|          | 0.00/967k [00:00<?, ?B/s]",
      "application/vnd.jupyter.widget-view+json": {
       "version_major": 2,
       "version_minor": 0,
       "model_id": "21578a619166449ab27b8849e2b53792"
      }
     },
     "metadata": {},
     "output_type": "display_data"
    },
    {
     "data": {
      "text/plain": "Downloading (…)okenizer_config.json:   0%|          | 0.00/394 [00:00<?, ?B/s]",
      "application/vnd.jupyter.widget-view+json": {
       "version_major": 2,
       "version_minor": 0,
       "model_id": "f3b0a30608d9412c9d1c05943ea73550"
      }
     },
     "metadata": {},
     "output_type": "display_data"
    },
    {
     "data": {
      "text/plain": "Downloading (…)3f97e635b2/vocab.txt:   0%|          | 0.00/336k [00:00<?, ?B/s]",
      "application/vnd.jupyter.widget-view+json": {
       "version_major": 2,
       "version_minor": 0,
       "model_id": "1e9cff46bc8f46b8ac038cbf0382a840"
      }
     },
     "metadata": {},
     "output_type": "display_data"
    },
    {
     "data": {
      "text/plain": "Downloading (…)7e635b2/modules.json:   0%|          | 0.00/229 [00:00<?, ?B/s]",
      "application/vnd.jupyter.widget-view+json": {
       "version_major": 2,
       "version_minor": 0,
       "model_id": "737628f0fab74c1b9c897070dd66e68c"
      }
     },
     "metadata": {},
     "output_type": "display_data"
    }
   ],
   "source": [
    "# tokenizer = AutoTokenizer.from_pretrained(\"beomi/KcELECTRA-base-v2022\")\n",
    "# model = AutoModel.from_pretrained(\"beomi/KcELECTRA-base-v2022\")\n",
    "model = SentenceTransformer(\"snunlp/KR-SBERT-V40K-klueNLI-augSTS\")"
   ]
  },
  {
   "cell_type": "code",
   "execution_count": 19,
   "outputs": [],
   "source": [
    "metadata['addr1'] = metadata['addr1'].astype(str)"
   ],
   "metadata": {
    "collapsed": false,
    "ExecuteTime": {
     "end_time": "2023-05-30T17:38:29.974778400Z",
     "start_time": "2023-05-30T17:38:29.967287Z"
    }
   }
  },
  {
   "cell_type": "code",
   "execution_count": 20,
   "metadata": {
    "ExecuteTime": {
     "end_time": "2023-05-30T17:39:06.506437500Z",
     "start_time": "2023-05-30T17:38:33.385989300Z"
    }
   },
   "outputs": [
    {
     "data": {
      "text/plain": "                   addr1  addr2   \n0      인천광역시 중구 연안부두로 61    NaN  \\\n1     인천광역시 계양구 경명대로 977    NaN   \n2    인천광역시 남동구 오봉동로4번길 9  (도림동)   \n3  인천광역시 미추홀구 소성로326번길 4    NaN   \n4      인천광역시 부평구 평천로 394    NaN   \n\n                                          firstimage   \n0  http://tong.visitkorea.or.kr/cms/resource/74/1...  \\\n1  http://tong.visitkorea.or.kr/cms/resource/96/2...   \n2                                                NaN   \n3  http://tong.visitkorea.or.kr/cms/resource/54/1...   \n4  http://tong.visitkorea.or.kr/cms/resource/71/1...   \n\n                                         firstimage2        mapx       mapy   \n0  http://tong.visitkorea.or.kr/cms/resource/74/1...  126.599864  37.453488  \\\n1  http://tong.visitkorea.or.kr/cms/resource/96/2...  126.715515  37.544160   \n2                                                NaN  126.729889  37.416801   \n3  http://tong.visitkorea.or.kr/cms/resource/54/1...  126.683246  37.437397   \n4  http://tong.visitkorea.or.kr/cms/resource/71/1...  126.734017  37.517217   \n\n            tel     title                                            addr_em  \n0  032-882-8505     가덕도횟집  [-0.5225001, 0.4603794, -0.45025212, -1.301758...  \n1           NaN  가든파티 계양점  [-0.86973006, -0.39200798, -0.25432613, -0.085...  \n2           NaN    가리비칼국수  [-1.2552817, 0.111761026, -0.29220444, 0.24108...  \n3  032-426-7270    가마솥손두부  [-0.26027778, 0.37633315, -0.18694587, -0.1887...  \n4  032-512-8552        가보  [-1.0475385, -0.16618238, -0.24967498, 0.73976...  ",
      "text/html": "<div>\n<style scoped>\n    .dataframe tbody tr th:only-of-type {\n        vertical-align: middle;\n    }\n\n    .dataframe tbody tr th {\n        vertical-align: top;\n    }\n\n    .dataframe thead th {\n        text-align: right;\n    }\n</style>\n<table border=\"1\" class=\"dataframe\">\n  <thead>\n    <tr style=\"text-align: right;\">\n      <th></th>\n      <th>addr1</th>\n      <th>addr2</th>\n      <th>firstimage</th>\n      <th>firstimage2</th>\n      <th>mapx</th>\n      <th>mapy</th>\n      <th>tel</th>\n      <th>title</th>\n      <th>addr_em</th>\n    </tr>\n  </thead>\n  <tbody>\n    <tr>\n      <th>0</th>\n      <td>인천광역시 중구 연안부두로 61</td>\n      <td>NaN</td>\n      <td>http://tong.visitkorea.or.kr/cms/resource/74/1...</td>\n      <td>http://tong.visitkorea.or.kr/cms/resource/74/1...</td>\n      <td>126.599864</td>\n      <td>37.453488</td>\n      <td>032-882-8505</td>\n      <td>가덕도횟집</td>\n      <td>[-0.5225001, 0.4603794, -0.45025212, -1.301758...</td>\n    </tr>\n    <tr>\n      <th>1</th>\n      <td>인천광역시 계양구 경명대로 977</td>\n      <td>NaN</td>\n      <td>http://tong.visitkorea.or.kr/cms/resource/96/2...</td>\n      <td>http://tong.visitkorea.or.kr/cms/resource/96/2...</td>\n      <td>126.715515</td>\n      <td>37.544160</td>\n      <td>NaN</td>\n      <td>가든파티 계양점</td>\n      <td>[-0.86973006, -0.39200798, -0.25432613, -0.085...</td>\n    </tr>\n    <tr>\n      <th>2</th>\n      <td>인천광역시 남동구 오봉동로4번길 9</td>\n      <td>(도림동)</td>\n      <td>NaN</td>\n      <td>NaN</td>\n      <td>126.729889</td>\n      <td>37.416801</td>\n      <td>NaN</td>\n      <td>가리비칼국수</td>\n      <td>[-1.2552817, 0.111761026, -0.29220444, 0.24108...</td>\n    </tr>\n    <tr>\n      <th>3</th>\n      <td>인천광역시 미추홀구 소성로326번길 4</td>\n      <td>NaN</td>\n      <td>http://tong.visitkorea.or.kr/cms/resource/54/1...</td>\n      <td>http://tong.visitkorea.or.kr/cms/resource/54/1...</td>\n      <td>126.683246</td>\n      <td>37.437397</td>\n      <td>032-426-7270</td>\n      <td>가마솥손두부</td>\n      <td>[-0.26027778, 0.37633315, -0.18694587, -0.1887...</td>\n    </tr>\n    <tr>\n      <th>4</th>\n      <td>인천광역시 부평구 평천로 394</td>\n      <td>NaN</td>\n      <td>http://tong.visitkorea.or.kr/cms/resource/71/1...</td>\n      <td>http://tong.visitkorea.or.kr/cms/resource/71/1...</td>\n      <td>126.734017</td>\n      <td>37.517217</td>\n      <td>032-512-8552</td>\n      <td>가보</td>\n      <td>[-1.0475385, -0.16618238, -0.24967498, 0.73976...</td>\n    </tr>\n  </tbody>\n</table>\n</div>"
     },
     "execution_count": 20,
     "metadata": {},
     "output_type": "execute_result"
    }
   ],
   "source": [
    "metadata['addr_em'] = metadata['addr1'].apply(lambda x: model.encode(x))\n",
    "metadata.head()"
   ]
  },
  {
   "cell_type": "code",
   "execution_count": 21,
   "outputs": [],
   "source": [
    "metadata.to_csv('./tourInfo_em.csv')"
   ],
   "metadata": {
    "collapsed": false,
    "ExecuteTime": {
     "end_time": "2023-05-30T17:40:06.120887100Z",
     "start_time": "2023-05-30T17:39:58.482801Z"
    }
   }
  },
  {
   "cell_type": "code",
   "execution_count": 22,
   "metadata": {
    "ExecuteTime": {
     "end_time": "2023-05-30T17:40:15.412698300Z",
     "start_time": "2023-05-30T17:40:15.400875Z"
    }
   },
   "outputs": [],
   "source": [
    "top_k=5"
   ]
  },
  {
   "cell_type": "code",
   "execution_count": 23,
   "outputs": [],
   "source": [
    "def get_query_sim_top_k(query, model, df, top_k):\n",
    "    query_encode = model.encode(query)\n",
    "    cos_scores = util.pytorch_cos_sim(query_encode, df['addr_em'])[0]\n",
    "    top_results = torch.topk(cos_scores, k=top_k)\n",
    "    return top_results"
   ],
   "metadata": {
    "collapsed": false,
    "ExecuteTime": {
     "end_time": "2023-05-30T17:40:19.595864800Z",
     "start_time": "2023-05-30T17:40:19.586452100Z"
    }
   }
  },
  {
   "cell_type": "code",
   "execution_count": 24,
   "outputs": [],
   "source": [
    "query = '부평구에 뭐가 있어'\n",
    "top_results = get_query_sim_top_k(query, model, metadata, top_k)"
   ],
   "metadata": {
    "collapsed": false,
    "ExecuteTime": {
     "end_time": "2023-05-30T17:40:22.642399700Z",
     "start_time": "2023-05-30T17:40:22.381558800Z"
    }
   }
  },
  {
   "cell_type": "code",
   "execution_count": 25,
   "outputs": [
    {
     "data": {
      "text/plain": "torch.return_types.topk(\nvalues=tensor([0.6318, 0.6119, 0.6060, 0.6047, 0.5993]),\nindices=tensor([1950,  677, 1032, 1663, 1147]))"
     },
     "execution_count": 25,
     "metadata": {},
     "output_type": "execute_result"
    }
   ],
   "source": [
    "top_results"
   ],
   "metadata": {
    "collapsed": false,
    "ExecuteTime": {
     "end_time": "2023-05-30T17:40:24.793620600Z",
     "start_time": "2023-05-30T17:40:24.768450800Z"
    }
   }
  },
  {
   "cell_type": "code",
   "execution_count": 26,
   "outputs": [
    {
     "data": {
      "text/plain": "array(['KK부평지점(금강_금강제화)', '부평공원', '양평신내서울해장국 부평직영점', '테마의거리상점가',\n       '올리브영 부평북부'], dtype=object)"
     },
     "execution_count": 26,
     "metadata": {},
     "output_type": "execute_result"
    }
   ],
   "source": [
    "metadata.iloc[top_results[1].numpy(), :]['title'].values"
   ],
   "metadata": {
    "collapsed": false,
    "ExecuteTime": {
     "end_time": "2023-05-30T17:40:30.875871200Z",
     "start_time": "2023-05-30T17:40:30.863315600Z"
    }
   }
  },
  {
   "cell_type": "code",
   "execution_count": 27,
   "outputs": [
    {
     "data": {
      "text/plain": "array(['영종씨사이드캠핑장', '아라짬뽕', '국사봉(인천)', '실미해수욕장', '실미유원지'], dtype=object)"
     },
     "execution_count": 27,
     "metadata": {},
     "output_type": "execute_result"
    }
   ],
   "source": [
    "query = \"중구에 뭐가 있어\"\n",
    "top_results = get_query_sim_top_k(query, model, metadata, top_k)\n",
    "metadata.iloc[top_results[1].numpy(), :]['title'].values"
   ],
   "metadata": {
    "collapsed": false,
    "ExecuteTime": {
     "end_time": "2023-05-31T02:08:00.693691400Z",
     "start_time": "2023-05-31T02:07:57.461162300Z"
    }
   }
  },
  {
   "cell_type": "code",
   "execution_count": 28,
   "outputs": [
    {
     "data": {
      "text/plain": "array(['풍전식당', '학익시장', '화양계곡민물매운탕', '홈플러스스토어즈 인하', '주안미디어문화축제'],\n      dtype=object)"
     },
     "execution_count": 28,
     "metadata": {},
     "output_type": "execute_result"
    }
   ],
   "source": [
    "query = \"미추홀구에 갈만한 곳 뭐 있을까\"\n",
    "top_results = get_query_sim_top_k(query, model, metadata, top_k)\n",
    "metadata.iloc[top_results[1].numpy(), :]['title'].values"
   ],
   "metadata": {
    "collapsed": false,
    "ExecuteTime": {
     "end_time": "2023-05-31T02:12:16.757697800Z",
     "start_time": "2023-05-31T02:12:16.484886200Z"
    }
   }
  },
  {
   "cell_type": "raw",
   "source": [
    "ChatGPT API 사용"
   ],
   "metadata": {
    "collapsed": false
   }
  },
  {
   "cell_type": "code",
   "execution_count": 29,
   "outputs": [],
   "source": [
    "def chat_msg(msg):\n",
    "    completion = openai.ChatCompletion.create(\n",
    "                    model=\"gpt-3.5-turbo\",\n",
    "                    message=msg\n",
    "                    )\n",
    "    return completion['choices'][0]['message']['content']"
   ],
   "metadata": {
    "collapsed": false,
    "ExecuteTime": {
     "end_time": "2023-05-31T02:51:07.009091400Z",
     "start_time": "2023-05-31T02:51:06.941515900Z"
    }
   }
  },
  {
   "cell_type": "raw",
   "source": [
    "Prompt Test"
   ],
   "metadata": {
    "collapsed": false
   }
  },
  {
   "cell_type": "code",
   "execution_count": 36,
   "outputs": [
    {
     "ename": "AuthenticationError",
     "evalue": "<empty message>",
     "output_type": "error",
     "traceback": [
      "\u001B[1;31m---------------------------------------------------------------------------\u001B[0m",
      "\u001B[1;31mAuthenticationError\u001B[0m                       Traceback (most recent call last)",
      "Cell \u001B[1;32mIn[36], line 5\u001B[0m\n\u001B[0;32m      1\u001B[0m messages \u001B[38;5;241m=\u001B[39m [\n\u001B[0;32m      2\u001B[0m     {\u001B[38;5;124m\"\u001B[39m\u001B[38;5;124mrole\u001B[39m\u001B[38;5;124m\"\u001B[39m:\u001B[38;5;124m\"\u001B[39m\u001B[38;5;124msystem\u001B[39m\u001B[38;5;124m\"\u001B[39m, \u001B[38;5;124m\"\u001B[39m\u001B[38;5;124mcontent\u001B[39m\u001B[38;5;124m\"\u001B[39m:\u001B[38;5;124m\"\u001B[39m\u001B[38;5;124m너는 인천 여행 가이드야. 인천 여행 가이드라고 소개하고 모르는 답변이 있으면 고객센터 1234-5678로 연락달라 그래.\u001B[39m\u001B[38;5;124m\"\u001B[39m},\n\u001B[0;32m      3\u001B[0m     {\u001B[38;5;124m\"\u001B[39m\u001B[38;5;124mrole\u001B[39m\u001B[38;5;124m\"\u001B[39m:\u001B[38;5;124m\"\u001B[39m\u001B[38;5;124muser\u001B[39m\u001B[38;5;124m\"\u001B[39m, \u001B[38;5;124m\"\u001B[39m\u001B[38;5;124mcontent\u001B[39m\u001B[38;5;124m\"\u001B[39m:\u001B[38;5;124m\"\u001B[39m\u001B[38;5;124m인천에 추천할 만한 여행지 알려줘\u001B[39m\u001B[38;5;124m\"\u001B[39m}\n\u001B[0;32m      4\u001B[0m ]\n\u001B[1;32m----> 5\u001B[0m \u001B[43mchat_msg\u001B[49m\u001B[43m(\u001B[49m\u001B[43mmessages\u001B[49m\u001B[43m)\u001B[49m\n",
      "Cell \u001B[1;32mIn[29], line 2\u001B[0m, in \u001B[0;36mchat_msg\u001B[1;34m(msg)\u001B[0m\n\u001B[0;32m      1\u001B[0m \u001B[38;5;28;01mdef\u001B[39;00m \u001B[38;5;21mchat_msg\u001B[39m(msg):\n\u001B[1;32m----> 2\u001B[0m     completion \u001B[38;5;241m=\u001B[39m \u001B[43mopenai\u001B[49m\u001B[38;5;241;43m.\u001B[39;49m\u001B[43mChatCompletion\u001B[49m\u001B[38;5;241;43m.\u001B[39;49m\u001B[43mcreate\u001B[49m\u001B[43m(\u001B[49m\n\u001B[0;32m      3\u001B[0m \u001B[43m                    \u001B[49m\u001B[43mmodel\u001B[49m\u001B[38;5;241;43m=\u001B[39;49m\u001B[38;5;124;43m\"\u001B[39;49m\u001B[38;5;124;43mgpt-3.5-turbo\u001B[39;49m\u001B[38;5;124;43m\"\u001B[39;49m\u001B[43m,\u001B[49m\n\u001B[0;32m      4\u001B[0m \u001B[43m                    \u001B[49m\u001B[43mmessage\u001B[49m\u001B[38;5;241;43m=\u001B[39;49m\u001B[43mmsg\u001B[49m\n\u001B[0;32m      5\u001B[0m \u001B[43m                    \u001B[49m\u001B[43m)\u001B[49m\n\u001B[0;32m      6\u001B[0m     \u001B[38;5;28;01mreturn\u001B[39;00m completion[\u001B[38;5;124m'\u001B[39m\u001B[38;5;124mchoices\u001B[39m\u001B[38;5;124m'\u001B[39m][\u001B[38;5;241m0\u001B[39m][\u001B[38;5;124m'\u001B[39m\u001B[38;5;124mmessage\u001B[39m\u001B[38;5;124m'\u001B[39m][\u001B[38;5;124m'\u001B[39m\u001B[38;5;124mcontent\u001B[39m\u001B[38;5;124m'\u001B[39m]\n",
      "File \u001B[1;32m~\\PycharmProjects\\IncheonTourBot\\venv\\Lib\\site-packages\\openai\\api_resources\\chat_completion.py:25\u001B[0m, in \u001B[0;36mChatCompletion.create\u001B[1;34m(cls, *args, **kwargs)\u001B[0m\n\u001B[0;32m     23\u001B[0m \u001B[38;5;28;01mwhile\u001B[39;00m \u001B[38;5;28;01mTrue\u001B[39;00m:\n\u001B[0;32m     24\u001B[0m     \u001B[38;5;28;01mtry\u001B[39;00m:\n\u001B[1;32m---> 25\u001B[0m         \u001B[38;5;28;01mreturn\u001B[39;00m \u001B[38;5;28;43msuper\u001B[39;49m\u001B[43m(\u001B[49m\u001B[43m)\u001B[49m\u001B[38;5;241;43m.\u001B[39;49m\u001B[43mcreate\u001B[49m\u001B[43m(\u001B[49m\u001B[38;5;241;43m*\u001B[39;49m\u001B[43margs\u001B[49m\u001B[43m,\u001B[49m\u001B[43m \u001B[49m\u001B[38;5;241;43m*\u001B[39;49m\u001B[38;5;241;43m*\u001B[39;49m\u001B[43mkwargs\u001B[49m\u001B[43m)\u001B[49m\n\u001B[0;32m     26\u001B[0m     \u001B[38;5;28;01mexcept\u001B[39;00m TryAgain \u001B[38;5;28;01mas\u001B[39;00m e:\n\u001B[0;32m     27\u001B[0m         \u001B[38;5;28;01mif\u001B[39;00m timeout \u001B[38;5;129;01mis\u001B[39;00m \u001B[38;5;129;01mnot\u001B[39;00m \u001B[38;5;28;01mNone\u001B[39;00m \u001B[38;5;129;01mand\u001B[39;00m time\u001B[38;5;241m.\u001B[39mtime() \u001B[38;5;241m>\u001B[39m start \u001B[38;5;241m+\u001B[39m timeout:\n",
      "File \u001B[1;32m~\\PycharmProjects\\IncheonTourBot\\venv\\Lib\\site-packages\\openai\\api_resources\\abstract\\engine_api_resource.py:153\u001B[0m, in \u001B[0;36mEngineAPIResource.create\u001B[1;34m(cls, api_key, api_base, api_type, request_id, api_version, organization, **params)\u001B[0m\n\u001B[0;32m    127\u001B[0m \u001B[38;5;129m@classmethod\u001B[39m\n\u001B[0;32m    128\u001B[0m \u001B[38;5;28;01mdef\u001B[39;00m \u001B[38;5;21mcreate\u001B[39m(\n\u001B[0;32m    129\u001B[0m     \u001B[38;5;28mcls\u001B[39m,\n\u001B[1;32m   (...)\u001B[0m\n\u001B[0;32m    136\u001B[0m     \u001B[38;5;241m*\u001B[39m\u001B[38;5;241m*\u001B[39mparams,\n\u001B[0;32m    137\u001B[0m ):\n\u001B[0;32m    138\u001B[0m     (\n\u001B[0;32m    139\u001B[0m         deployment_id,\n\u001B[0;32m    140\u001B[0m         engine,\n\u001B[1;32m   (...)\u001B[0m\n\u001B[0;32m    150\u001B[0m         api_key, api_base, api_type, api_version, organization, \u001B[38;5;241m*\u001B[39m\u001B[38;5;241m*\u001B[39mparams\n\u001B[0;32m    151\u001B[0m     )\n\u001B[1;32m--> 153\u001B[0m     response, _, api_key \u001B[38;5;241m=\u001B[39m \u001B[43mrequestor\u001B[49m\u001B[38;5;241;43m.\u001B[39;49m\u001B[43mrequest\u001B[49m\u001B[43m(\u001B[49m\n\u001B[0;32m    154\u001B[0m \u001B[43m        \u001B[49m\u001B[38;5;124;43m\"\u001B[39;49m\u001B[38;5;124;43mpost\u001B[39;49m\u001B[38;5;124;43m\"\u001B[39;49m\u001B[43m,\u001B[49m\n\u001B[0;32m    155\u001B[0m \u001B[43m        \u001B[49m\u001B[43murl\u001B[49m\u001B[43m,\u001B[49m\n\u001B[0;32m    156\u001B[0m \u001B[43m        \u001B[49m\u001B[43mparams\u001B[49m\u001B[38;5;241;43m=\u001B[39;49m\u001B[43mparams\u001B[49m\u001B[43m,\u001B[49m\n\u001B[0;32m    157\u001B[0m \u001B[43m        \u001B[49m\u001B[43mheaders\u001B[49m\u001B[38;5;241;43m=\u001B[39;49m\u001B[43mheaders\u001B[49m\u001B[43m,\u001B[49m\n\u001B[0;32m    158\u001B[0m \u001B[43m        \u001B[49m\u001B[43mstream\u001B[49m\u001B[38;5;241;43m=\u001B[39;49m\u001B[43mstream\u001B[49m\u001B[43m,\u001B[49m\n\u001B[0;32m    159\u001B[0m \u001B[43m        \u001B[49m\u001B[43mrequest_id\u001B[49m\u001B[38;5;241;43m=\u001B[39;49m\u001B[43mrequest_id\u001B[49m\u001B[43m,\u001B[49m\n\u001B[0;32m    160\u001B[0m \u001B[43m        \u001B[49m\u001B[43mrequest_timeout\u001B[49m\u001B[38;5;241;43m=\u001B[39;49m\u001B[43mrequest_timeout\u001B[49m\u001B[43m,\u001B[49m\n\u001B[0;32m    161\u001B[0m \u001B[43m    \u001B[49m\u001B[43m)\u001B[49m\n\u001B[0;32m    163\u001B[0m     \u001B[38;5;28;01mif\u001B[39;00m stream:\n\u001B[0;32m    164\u001B[0m         \u001B[38;5;66;03m# must be an iterator\u001B[39;00m\n\u001B[0;32m    165\u001B[0m         \u001B[38;5;28;01massert\u001B[39;00m \u001B[38;5;129;01mnot\u001B[39;00m \u001B[38;5;28misinstance\u001B[39m(response, OpenAIResponse)\n",
      "File \u001B[1;32m~\\PycharmProjects\\IncheonTourBot\\venv\\Lib\\site-packages\\openai\\api_requestor.py:230\u001B[0m, in \u001B[0;36mAPIRequestor.request\u001B[1;34m(self, method, url, params, headers, files, stream, request_id, request_timeout)\u001B[0m\n\u001B[0;32m    209\u001B[0m \u001B[38;5;28;01mdef\u001B[39;00m \u001B[38;5;21mrequest\u001B[39m(\n\u001B[0;32m    210\u001B[0m     \u001B[38;5;28mself\u001B[39m,\n\u001B[0;32m    211\u001B[0m     method,\n\u001B[1;32m   (...)\u001B[0m\n\u001B[0;32m    218\u001B[0m     request_timeout: Optional[Union[\u001B[38;5;28mfloat\u001B[39m, Tuple[\u001B[38;5;28mfloat\u001B[39m, \u001B[38;5;28mfloat\u001B[39m]]] \u001B[38;5;241m=\u001B[39m \u001B[38;5;28;01mNone\u001B[39;00m,\n\u001B[0;32m    219\u001B[0m ) \u001B[38;5;241m-\u001B[39m\u001B[38;5;241m>\u001B[39m Tuple[Union[OpenAIResponse, Iterator[OpenAIResponse]], \u001B[38;5;28mbool\u001B[39m, \u001B[38;5;28mstr\u001B[39m]:\n\u001B[0;32m    220\u001B[0m     result \u001B[38;5;241m=\u001B[39m \u001B[38;5;28mself\u001B[39m\u001B[38;5;241m.\u001B[39mrequest_raw(\n\u001B[0;32m    221\u001B[0m         method\u001B[38;5;241m.\u001B[39mlower(),\n\u001B[0;32m    222\u001B[0m         url,\n\u001B[1;32m   (...)\u001B[0m\n\u001B[0;32m    228\u001B[0m         request_timeout\u001B[38;5;241m=\u001B[39mrequest_timeout,\n\u001B[0;32m    229\u001B[0m     )\n\u001B[1;32m--> 230\u001B[0m     resp, got_stream \u001B[38;5;241m=\u001B[39m \u001B[38;5;28;43mself\u001B[39;49m\u001B[38;5;241;43m.\u001B[39;49m\u001B[43m_interpret_response\u001B[49m\u001B[43m(\u001B[49m\u001B[43mresult\u001B[49m\u001B[43m,\u001B[49m\u001B[43m \u001B[49m\u001B[43mstream\u001B[49m\u001B[43m)\u001B[49m\n\u001B[0;32m    231\u001B[0m     \u001B[38;5;28;01mreturn\u001B[39;00m resp, got_stream, \u001B[38;5;28mself\u001B[39m\u001B[38;5;241m.\u001B[39mapi_key\n",
      "File \u001B[1;32m~\\PycharmProjects\\IncheonTourBot\\venv\\Lib\\site-packages\\openai\\api_requestor.py:624\u001B[0m, in \u001B[0;36mAPIRequestor._interpret_response\u001B[1;34m(self, result, stream)\u001B[0m\n\u001B[0;32m    616\u001B[0m     \u001B[38;5;28;01mreturn\u001B[39;00m (\n\u001B[0;32m    617\u001B[0m         \u001B[38;5;28mself\u001B[39m\u001B[38;5;241m.\u001B[39m_interpret_response_line(\n\u001B[0;32m    618\u001B[0m             line, result\u001B[38;5;241m.\u001B[39mstatus_code, result\u001B[38;5;241m.\u001B[39mheaders, stream\u001B[38;5;241m=\u001B[39m\u001B[38;5;28;01mTrue\u001B[39;00m\n\u001B[0;32m    619\u001B[0m         )\n\u001B[0;32m    620\u001B[0m         \u001B[38;5;28;01mfor\u001B[39;00m line \u001B[38;5;129;01min\u001B[39;00m parse_stream(result\u001B[38;5;241m.\u001B[39miter_lines())\n\u001B[0;32m    621\u001B[0m     ), \u001B[38;5;28;01mTrue\u001B[39;00m\n\u001B[0;32m    622\u001B[0m \u001B[38;5;28;01melse\u001B[39;00m:\n\u001B[0;32m    623\u001B[0m     \u001B[38;5;28;01mreturn\u001B[39;00m (\n\u001B[1;32m--> 624\u001B[0m         \u001B[38;5;28;43mself\u001B[39;49m\u001B[38;5;241;43m.\u001B[39;49m\u001B[43m_interpret_response_line\u001B[49m\u001B[43m(\u001B[49m\n\u001B[0;32m    625\u001B[0m \u001B[43m            \u001B[49m\u001B[43mresult\u001B[49m\u001B[38;5;241;43m.\u001B[39;49m\u001B[43mcontent\u001B[49m\u001B[38;5;241;43m.\u001B[39;49m\u001B[43mdecode\u001B[49m\u001B[43m(\u001B[49m\u001B[38;5;124;43m\"\u001B[39;49m\u001B[38;5;124;43mutf-8\u001B[39;49m\u001B[38;5;124;43m\"\u001B[39;49m\u001B[43m)\u001B[49m\u001B[43m,\u001B[49m\n\u001B[0;32m    626\u001B[0m \u001B[43m            \u001B[49m\u001B[43mresult\u001B[49m\u001B[38;5;241;43m.\u001B[39;49m\u001B[43mstatus_code\u001B[49m\u001B[43m,\u001B[49m\n\u001B[0;32m    627\u001B[0m \u001B[43m            \u001B[49m\u001B[43mresult\u001B[49m\u001B[38;5;241;43m.\u001B[39;49m\u001B[43mheaders\u001B[49m\u001B[43m,\u001B[49m\n\u001B[0;32m    628\u001B[0m \u001B[43m            \u001B[49m\u001B[43mstream\u001B[49m\u001B[38;5;241;43m=\u001B[39;49m\u001B[38;5;28;43;01mFalse\u001B[39;49;00m\u001B[43m,\u001B[49m\n\u001B[0;32m    629\u001B[0m \u001B[43m        \u001B[49m\u001B[43m)\u001B[49m,\n\u001B[0;32m    630\u001B[0m         \u001B[38;5;28;01mFalse\u001B[39;00m,\n\u001B[0;32m    631\u001B[0m     )\n",
      "File \u001B[1;32m~\\PycharmProjects\\IncheonTourBot\\venv\\Lib\\site-packages\\openai\\api_requestor.py:687\u001B[0m, in \u001B[0;36mAPIRequestor._interpret_response_line\u001B[1;34m(self, rbody, rcode, rheaders, stream)\u001B[0m\n\u001B[0;32m    685\u001B[0m stream_error \u001B[38;5;241m=\u001B[39m stream \u001B[38;5;129;01mand\u001B[39;00m \u001B[38;5;124m\"\u001B[39m\u001B[38;5;124merror\u001B[39m\u001B[38;5;124m\"\u001B[39m \u001B[38;5;129;01min\u001B[39;00m resp\u001B[38;5;241m.\u001B[39mdata\n\u001B[0;32m    686\u001B[0m \u001B[38;5;28;01mif\u001B[39;00m stream_error \u001B[38;5;129;01mor\u001B[39;00m \u001B[38;5;129;01mnot\u001B[39;00m \u001B[38;5;241m200\u001B[39m \u001B[38;5;241m<\u001B[39m\u001B[38;5;241m=\u001B[39m rcode \u001B[38;5;241m<\u001B[39m \u001B[38;5;241m300\u001B[39m:\n\u001B[1;32m--> 687\u001B[0m     \u001B[38;5;28;01mraise\u001B[39;00m \u001B[38;5;28mself\u001B[39m\u001B[38;5;241m.\u001B[39mhandle_error_response(\n\u001B[0;32m    688\u001B[0m         rbody, rcode, resp\u001B[38;5;241m.\u001B[39mdata, rheaders, stream_error\u001B[38;5;241m=\u001B[39mstream_error\n\u001B[0;32m    689\u001B[0m     )\n\u001B[0;32m    690\u001B[0m \u001B[38;5;28;01mreturn\u001B[39;00m resp\n",
      "\u001B[1;31mAuthenticationError\u001B[0m: <empty message>"
     ]
    }
   ],
   "source": [
    "messages = [\n",
    "    {\"role\":\"system\", \"content\":\"너는 인천 여행 가이드야. 인천 여행 가이드라고 소개하고 모르는 답변이 있으면 고객센터 1234-5678로 연락달라 그래.\"},\n",
    "    {\"role\":\"user\", \"content\":\"인천에 추천할 만한 여행지 알려줘\"}\n",
    "]\n",
    "chat_msg(messages)"
   ],
   "metadata": {
    "collapsed": false,
    "ExecuteTime": {
     "end_time": "2023-05-31T03:07:19.707819Z",
     "start_time": "2023-05-31T03:07:19.127394900Z"
    }
   }
  },
  {
   "cell_type": "code",
   "execution_count": null,
   "outputs": [],
   "source": [],
   "metadata": {
    "collapsed": false
   }
  }
 ],
 "metadata": {
  "kernelspec": {
   "display_name": "Python 3 (ipykernel)",
   "language": "python",
   "name": "python3"
  },
  "language_info": {
   "codemirror_mode": {
    "name": "ipython",
    "version": 3
   },
   "file_extension": ".py",
   "mimetype": "text/x-python",
   "name": "python",
   "nbconvert_exporter": "python",
   "pygments_lexer": "ipython3",
   "version": "3.11.0"
  }
 },
 "nbformat": 4,
 "nbformat_minor": 1
}
