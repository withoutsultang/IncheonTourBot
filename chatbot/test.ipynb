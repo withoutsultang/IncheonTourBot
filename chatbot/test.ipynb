{
 "cells": [
  {
   "cell_type": "markdown",
   "source": [
    "참고 //\n",
    "OpenAI ChatGPT API를 활용해 추천 시스템 구현하기(feat. HuggingFace), 이수진의 블로그\n",
    "https://lsjsj92.tistory.com/657\n",
    "\n",
    "lsjsj92/recommender_system_with_Python\n",
    "https://github.com/lsjsj92/recommender_system_with_Python/blob/master/009_chatgpt_recsys.ipynb\n",
    "\n",
    "HuggingFace model\n",
    "snunlp/KR-SBERT-V40K-klueNLI-augSTS\n",
    "https://huggingface.co/snunlp/KR-SBERT-V40K-klueNLI-augSTS/tree/main\n",
    "\n",
    "DataSet\n",
    "TourAPI, 한국관광공사\n",
    "https://api.visitkorea.or.kr/#/"
   ],
   "metadata": {
    "collapsed": false
   }
  },
  {
   "cell_type": "code",
   "execution_count": 18,
   "metadata": {
    "ExecuteTime": {
     "end_time": "2023-06-06T15:05:36.002664900Z",
     "start_time": "2023-06-06T15:05:35.994177400Z"
    }
   },
   "outputs": [],
   "source": [
    "import os\n",
    "\n",
    "import numpy as np\n",
    "import torch\n",
    "from sentence_transformers import SentenceTransformer, util\n",
    "from transformers import AutoTokenizer, AutoModel\n",
    "import openai\n",
    "import pandas as pd\n",
    "from dotenv import load_dotenv"
   ]
  },
  {
   "cell_type": "code",
   "execution_count": 2,
   "metadata": {
    "ExecuteTime": {
     "end_time": "2023-06-06T14:55:54.408300300Z",
     "start_time": "2023-06-06T14:55:54.396917700Z"
    }
   },
   "outputs": [],
   "source": [
    "load_dotenv()\n",
    "openai.api_key = os.environ.get(\"OPENAI_API_KEY\")\n",
    "# cur_os = sys.platform\n",
    "# model_path = f\"D:/github\" if cur_os.startswith('win') else None"
   ]
  },
  {
   "cell_type": "code",
   "execution_count": 4,
   "metadata": {
    "ExecuteTime": {
     "end_time": "2023-06-06T14:55:58.622772100Z",
     "start_time": "2023-06-06T14:55:58.565773300Z"
    }
   },
   "outputs": [
    {
     "name": "stdout",
     "output_type": "stream",
     "text": [
      "(2004, 21)\n"
     ]
    },
    {
     "data": {
      "text/plain": "   Unnamed: 0                  addr1  addr2  areacode  booktour cat1   cat2   \n0           0      인천광역시 중구 연안부두로 61    NaN         2       NaN  A05  A0502  \\\n1           1     인천광역시 계양구 경명대로 977    NaN         2       NaN  A05  A0502   \n2           2    인천광역시 남동구 오봉동로4번길 9  (도림동)         2       NaN  A05  A0502   \n3           3  인천광역시 미추홀구 소성로326번길 4    NaN         2       NaN  A05  A0502   \n4           4      인천광역시 부평구 평천로 394    NaN         2       NaN  A05  A0502   \n\n        cat3  contentid  contenttypeid  ...   \n0  A05020100     597467             39  ...  \\\n1  A05020100    2876098             39  ...   \n2  A05020100    2768130             39  ...   \n3  A05020100     135696             39  ...   \n4  A05020400     600680             39  ...   \n\n                                          firstimage   \n0  http://tong.visitkorea.or.kr/cms/resource/74/1...  \\\n1  http://tong.visitkorea.or.kr/cms/resource/96/2...   \n2                                                NaN   \n3  http://tong.visitkorea.or.kr/cms/resource/54/1...   \n4  http://tong.visitkorea.or.kr/cms/resource/71/1...   \n\n                                         firstimage2        mapx       mapy   \n0  http://tong.visitkorea.or.kr/cms/resource/74/1...  126.599864  37.453488  \\\n1  http://tong.visitkorea.or.kr/cms/resource/96/2...  126.715515  37.544160   \n2                                                NaN  126.729889  37.416801   \n3  http://tong.visitkorea.or.kr/cms/resource/54/1...  126.683246  37.437397   \n4  http://tong.visitkorea.or.kr/cms/resource/71/1...  126.734017  37.517217   \n\n   mlevel  modifiedtime  sigungucode           tel     title zipcode  \n0     6.0  2.022120e+13           10  032-882-8505     가덕도횟집   22348  \n1     6.0  2.022100e+13            2           NaN  가든파티 계양점   21042  \n2     6.0  2.022120e+13            4           NaN    가리비칼국수   21656  \n3     6.0  2.022100e+13            3  032-426-7270    가마솥손두부   22238  \n4     6.0  2.022080e+13            6  032-512-8552        가보   21323  \n\n[5 rows x 21 columns]",
      "text/html": "<div>\n<style scoped>\n    .dataframe tbody tr th:only-of-type {\n        vertical-align: middle;\n    }\n\n    .dataframe tbody tr th {\n        vertical-align: top;\n    }\n\n    .dataframe thead th {\n        text-align: right;\n    }\n</style>\n<table border=\"1\" class=\"dataframe\">\n  <thead>\n    <tr style=\"text-align: right;\">\n      <th></th>\n      <th>Unnamed: 0</th>\n      <th>addr1</th>\n      <th>addr2</th>\n      <th>areacode</th>\n      <th>booktour</th>\n      <th>cat1</th>\n      <th>cat2</th>\n      <th>cat3</th>\n      <th>contentid</th>\n      <th>contenttypeid</th>\n      <th>...</th>\n      <th>firstimage</th>\n      <th>firstimage2</th>\n      <th>mapx</th>\n      <th>mapy</th>\n      <th>mlevel</th>\n      <th>modifiedtime</th>\n      <th>sigungucode</th>\n      <th>tel</th>\n      <th>title</th>\n      <th>zipcode</th>\n    </tr>\n  </thead>\n  <tbody>\n    <tr>\n      <th>0</th>\n      <td>0</td>\n      <td>인천광역시 중구 연안부두로 61</td>\n      <td>NaN</td>\n      <td>2</td>\n      <td>NaN</td>\n      <td>A05</td>\n      <td>A0502</td>\n      <td>A05020100</td>\n      <td>597467</td>\n      <td>39</td>\n      <td>...</td>\n      <td>http://tong.visitkorea.or.kr/cms/resource/74/1...</td>\n      <td>http://tong.visitkorea.or.kr/cms/resource/74/1...</td>\n      <td>126.599864</td>\n      <td>37.453488</td>\n      <td>6.0</td>\n      <td>2.022120e+13</td>\n      <td>10</td>\n      <td>032-882-8505</td>\n      <td>가덕도횟집</td>\n      <td>22348</td>\n    </tr>\n    <tr>\n      <th>1</th>\n      <td>1</td>\n      <td>인천광역시 계양구 경명대로 977</td>\n      <td>NaN</td>\n      <td>2</td>\n      <td>NaN</td>\n      <td>A05</td>\n      <td>A0502</td>\n      <td>A05020100</td>\n      <td>2876098</td>\n      <td>39</td>\n      <td>...</td>\n      <td>http://tong.visitkorea.or.kr/cms/resource/96/2...</td>\n      <td>http://tong.visitkorea.or.kr/cms/resource/96/2...</td>\n      <td>126.715515</td>\n      <td>37.544160</td>\n      <td>6.0</td>\n      <td>2.022100e+13</td>\n      <td>2</td>\n      <td>NaN</td>\n      <td>가든파티 계양점</td>\n      <td>21042</td>\n    </tr>\n    <tr>\n      <th>2</th>\n      <td>2</td>\n      <td>인천광역시 남동구 오봉동로4번길 9</td>\n      <td>(도림동)</td>\n      <td>2</td>\n      <td>NaN</td>\n      <td>A05</td>\n      <td>A0502</td>\n      <td>A05020100</td>\n      <td>2768130</td>\n      <td>39</td>\n      <td>...</td>\n      <td>NaN</td>\n      <td>NaN</td>\n      <td>126.729889</td>\n      <td>37.416801</td>\n      <td>6.0</td>\n      <td>2.022120e+13</td>\n      <td>4</td>\n      <td>NaN</td>\n      <td>가리비칼국수</td>\n      <td>21656</td>\n    </tr>\n    <tr>\n      <th>3</th>\n      <td>3</td>\n      <td>인천광역시 미추홀구 소성로326번길 4</td>\n      <td>NaN</td>\n      <td>2</td>\n      <td>NaN</td>\n      <td>A05</td>\n      <td>A0502</td>\n      <td>A05020100</td>\n      <td>135696</td>\n      <td>39</td>\n      <td>...</td>\n      <td>http://tong.visitkorea.or.kr/cms/resource/54/1...</td>\n      <td>http://tong.visitkorea.or.kr/cms/resource/54/1...</td>\n      <td>126.683246</td>\n      <td>37.437397</td>\n      <td>6.0</td>\n      <td>2.022100e+13</td>\n      <td>3</td>\n      <td>032-426-7270</td>\n      <td>가마솥손두부</td>\n      <td>22238</td>\n    </tr>\n    <tr>\n      <th>4</th>\n      <td>4</td>\n      <td>인천광역시 부평구 평천로 394</td>\n      <td>NaN</td>\n      <td>2</td>\n      <td>NaN</td>\n      <td>A05</td>\n      <td>A0502</td>\n      <td>A05020400</td>\n      <td>600680</td>\n      <td>39</td>\n      <td>...</td>\n      <td>http://tong.visitkorea.or.kr/cms/resource/71/1...</td>\n      <td>http://tong.visitkorea.or.kr/cms/resource/71/1...</td>\n      <td>126.734017</td>\n      <td>37.517217</td>\n      <td>6.0</td>\n      <td>2.022080e+13</td>\n      <td>6</td>\n      <td>032-512-8552</td>\n      <td>가보</td>\n      <td>21323</td>\n    </tr>\n  </tbody>\n</table>\n<p>5 rows × 21 columns</p>\n</div>"
     },
     "execution_count": 4,
     "metadata": {},
     "output_type": "execute_result"
    }
   ],
   "source": [
    "metadata = pd.read_csv('./tourInfo_copy.csv')\n",
    "print(metadata.shape)\n",
    "metadata.head()"
   ]
  },
  {
   "cell_type": "code",
   "execution_count": 5,
   "outputs": [
    {
     "data": {
      "text/plain": "    Unnamed: 0                        addr1  addr2  areacode  booktour cat1   \n11          11      인천광역시 연수구 청량로102번길 40-9    NaN         2       0.0  A02  \\\n16          16          인천광역시 서구 가정로98번길 18  (가좌동)         2       0.0  A02   \n17          17  인천광역시 강화군 강화읍 해안동로1366번길 18    NaN         2       0.0  A02   \n18          18  인천광역시 강화군 강화읍 해안동로1366번길 35    NaN         2       0.0  A02   \n22          22        인천광역시 강화군 강화읍 동문로 119  (강화읍)         2       0.0  A01   \n\n     cat2       cat3  contentid  contenttypeid  ...   \n11  A0206  A02060100     130105             14  ...  \\\n16  A0202  A02020700    2767573             12  ...   \n17  A0201  A02010200    1254680             12  ...   \n18  A0201  A02010900    2768133             12  ...   \n22  A0101  A01010500    1619788             12  ...   \n\n                                           firstimage   \n11  http://tong.visitkorea.or.kr/cms/resource/75/1...  \\\n16  http://tong.visitkorea.or.kr/cms/resource/58/2...   \n17  http://tong.visitkorea.or.kr/cms/resource/72/1...   \n18  http://tong.visitkorea.or.kr/cms/resource/26/2...   \n22  http://tong.visitkorea.or.kr/cms/resource/80/1...   \n\n                                          firstimage2        mapx       mapy   \n11  http://tong.visitkorea.or.kr/cms/resource/75/1...  126.657604  37.418224  \\\n16  http://tong.visitkorea.or.kr/cms/resource/58/2...  126.673620  37.493238   \n17  http://tong.visitkorea.or.kr/cms/resource/72/1...  126.517114  37.733538   \n18  http://tong.visitkorea.or.kr/cms/resource/26/2...  126.517494  37.734196   \n22  http://tong.visitkorea.or.kr/cms/resource/80/1...  126.494854  37.754146   \n\n    mlevel  modifiedtime  sigungucode           tel        title zipcode  \n11     6.0  2.022070e+13            8  032-833-4747        가천박물관   21942  \n16     6.0  2.022120e+13            7           NaN         감중공원   22838  \n17     6.0  2.022050e+13            1           NaN         갑곶돈대   23027  \n18     6.0  2.022100e+13            1           NaN       갑곶순교성지   23027  \n22     6.0  2.022060e+13            1           NaN  강화 갑곶리 탱자나무   23022  \n\n[5 rows x 21 columns]",
      "text/html": "<div>\n<style scoped>\n    .dataframe tbody tr th:only-of-type {\n        vertical-align: middle;\n    }\n\n    .dataframe tbody tr th {\n        vertical-align: top;\n    }\n\n    .dataframe thead th {\n        text-align: right;\n    }\n</style>\n<table border=\"1\" class=\"dataframe\">\n  <thead>\n    <tr style=\"text-align: right;\">\n      <th></th>\n      <th>Unnamed: 0</th>\n      <th>addr1</th>\n      <th>addr2</th>\n      <th>areacode</th>\n      <th>booktour</th>\n      <th>cat1</th>\n      <th>cat2</th>\n      <th>cat3</th>\n      <th>contentid</th>\n      <th>contenttypeid</th>\n      <th>...</th>\n      <th>firstimage</th>\n      <th>firstimage2</th>\n      <th>mapx</th>\n      <th>mapy</th>\n      <th>mlevel</th>\n      <th>modifiedtime</th>\n      <th>sigungucode</th>\n      <th>tel</th>\n      <th>title</th>\n      <th>zipcode</th>\n    </tr>\n  </thead>\n  <tbody>\n    <tr>\n      <th>11</th>\n      <td>11</td>\n      <td>인천광역시 연수구 청량로102번길 40-9</td>\n      <td>NaN</td>\n      <td>2</td>\n      <td>0.0</td>\n      <td>A02</td>\n      <td>A0206</td>\n      <td>A02060100</td>\n      <td>130105</td>\n      <td>14</td>\n      <td>...</td>\n      <td>http://tong.visitkorea.or.kr/cms/resource/75/1...</td>\n      <td>http://tong.visitkorea.or.kr/cms/resource/75/1...</td>\n      <td>126.657604</td>\n      <td>37.418224</td>\n      <td>6.0</td>\n      <td>2.022070e+13</td>\n      <td>8</td>\n      <td>032-833-4747</td>\n      <td>가천박물관</td>\n      <td>21942</td>\n    </tr>\n    <tr>\n      <th>16</th>\n      <td>16</td>\n      <td>인천광역시 서구 가정로98번길 18</td>\n      <td>(가좌동)</td>\n      <td>2</td>\n      <td>0.0</td>\n      <td>A02</td>\n      <td>A0202</td>\n      <td>A02020700</td>\n      <td>2767573</td>\n      <td>12</td>\n      <td>...</td>\n      <td>http://tong.visitkorea.or.kr/cms/resource/58/2...</td>\n      <td>http://tong.visitkorea.or.kr/cms/resource/58/2...</td>\n      <td>126.673620</td>\n      <td>37.493238</td>\n      <td>6.0</td>\n      <td>2.022120e+13</td>\n      <td>7</td>\n      <td>NaN</td>\n      <td>감중공원</td>\n      <td>22838</td>\n    </tr>\n    <tr>\n      <th>17</th>\n      <td>17</td>\n      <td>인천광역시 강화군 강화읍 해안동로1366번길 18</td>\n      <td>NaN</td>\n      <td>2</td>\n      <td>0.0</td>\n      <td>A02</td>\n      <td>A0201</td>\n      <td>A02010200</td>\n      <td>1254680</td>\n      <td>12</td>\n      <td>...</td>\n      <td>http://tong.visitkorea.or.kr/cms/resource/72/1...</td>\n      <td>http://tong.visitkorea.or.kr/cms/resource/72/1...</td>\n      <td>126.517114</td>\n      <td>37.733538</td>\n      <td>6.0</td>\n      <td>2.022050e+13</td>\n      <td>1</td>\n      <td>NaN</td>\n      <td>갑곶돈대</td>\n      <td>23027</td>\n    </tr>\n    <tr>\n      <th>18</th>\n      <td>18</td>\n      <td>인천광역시 강화군 강화읍 해안동로1366번길 35</td>\n      <td>NaN</td>\n      <td>2</td>\n      <td>0.0</td>\n      <td>A02</td>\n      <td>A0201</td>\n      <td>A02010900</td>\n      <td>2768133</td>\n      <td>12</td>\n      <td>...</td>\n      <td>http://tong.visitkorea.or.kr/cms/resource/26/2...</td>\n      <td>http://tong.visitkorea.or.kr/cms/resource/26/2...</td>\n      <td>126.517494</td>\n      <td>37.734196</td>\n      <td>6.0</td>\n      <td>2.022100e+13</td>\n      <td>1</td>\n      <td>NaN</td>\n      <td>갑곶순교성지</td>\n      <td>23027</td>\n    </tr>\n    <tr>\n      <th>22</th>\n      <td>22</td>\n      <td>인천광역시 강화군 강화읍 동문로 119</td>\n      <td>(강화읍)</td>\n      <td>2</td>\n      <td>0.0</td>\n      <td>A01</td>\n      <td>A0101</td>\n      <td>A01010500</td>\n      <td>1619788</td>\n      <td>12</td>\n      <td>...</td>\n      <td>http://tong.visitkorea.or.kr/cms/resource/80/1...</td>\n      <td>http://tong.visitkorea.or.kr/cms/resource/80/1...</td>\n      <td>126.494854</td>\n      <td>37.754146</td>\n      <td>6.0</td>\n      <td>2.022060e+13</td>\n      <td>1</td>\n      <td>NaN</td>\n      <td>강화 갑곶리 탱자나무</td>\n      <td>23022</td>\n    </tr>\n  </tbody>\n</table>\n<p>5 rows × 21 columns</p>\n</div>"
     },
     "execution_count": 5,
     "metadata": {},
     "output_type": "execute_result"
    }
   ],
   "source": [
    "metadata = metadata[metadata['contenttypeid'].isin([12, 14])]\n",
    "metadata.head()"
   ],
   "metadata": {
    "collapsed": false,
    "ExecuteTime": {
     "end_time": "2023-06-06T14:56:01.299346400Z",
     "start_time": "2023-06-06T14:56:01.235963600Z"
    }
   }
  },
  {
   "cell_type": "code",
   "execution_count": 11,
   "metadata": {
    "ExecuteTime": {
     "end_time": "2023-06-06T14:08:39.524052300Z",
     "start_time": "2023-06-06T14:08:39.500478900Z"
    }
   },
   "outputs": [
    {
     "data": {
      "text/plain": "                          addr1  addr2   \n11      인천광역시 연수구 청량로102번길 40-9    NaN  \\\n16          인천광역시 서구 가정로98번길 18  (가좌동)   \n17  인천광역시 강화군 강화읍 해안동로1366번길 18    NaN   \n18  인천광역시 강화군 강화읍 해안동로1366번길 35    NaN   \n22        인천광역시 강화군 강화읍 동문로 119  (강화읍)   \n\n                                           firstimage   \n11  http://tong.visitkorea.or.kr/cms/resource/75/1...  \\\n16  http://tong.visitkorea.or.kr/cms/resource/58/2...   \n17  http://tong.visitkorea.or.kr/cms/resource/72/1...   \n18  http://tong.visitkorea.or.kr/cms/resource/26/2...   \n22  http://tong.visitkorea.or.kr/cms/resource/80/1...   \n\n                                          firstimage2        mapx       mapy   \n11  http://tong.visitkorea.or.kr/cms/resource/75/1...  126.657604  37.418224  \\\n16  http://tong.visitkorea.or.kr/cms/resource/58/2...  126.673620  37.493238   \n17  http://tong.visitkorea.or.kr/cms/resource/72/1...  126.517114  37.733538   \n18  http://tong.visitkorea.or.kr/cms/resource/26/2...  126.517494  37.734196   \n22  http://tong.visitkorea.or.kr/cms/resource/80/1...  126.494854  37.754146   \n\n             tel        title  \n11  032-833-4747        가천박물관  \n16           NaN         감중공원  \n17           NaN         갑곶돈대  \n18           NaN       갑곶순교성지  \n22           NaN  강화 갑곶리 탱자나무  ",
      "text/html": "<div>\n<style scoped>\n    .dataframe tbody tr th:only-of-type {\n        vertical-align: middle;\n    }\n\n    .dataframe tbody tr th {\n        vertical-align: top;\n    }\n\n    .dataframe thead th {\n        text-align: right;\n    }\n</style>\n<table border=\"1\" class=\"dataframe\">\n  <thead>\n    <tr style=\"text-align: right;\">\n      <th></th>\n      <th>addr1</th>\n      <th>addr2</th>\n      <th>firstimage</th>\n      <th>firstimage2</th>\n      <th>mapx</th>\n      <th>mapy</th>\n      <th>tel</th>\n      <th>title</th>\n    </tr>\n  </thead>\n  <tbody>\n    <tr>\n      <th>11</th>\n      <td>인천광역시 연수구 청량로102번길 40-9</td>\n      <td>NaN</td>\n      <td>http://tong.visitkorea.or.kr/cms/resource/75/1...</td>\n      <td>http://tong.visitkorea.or.kr/cms/resource/75/1...</td>\n      <td>126.657604</td>\n      <td>37.418224</td>\n      <td>032-833-4747</td>\n      <td>가천박물관</td>\n    </tr>\n    <tr>\n      <th>16</th>\n      <td>인천광역시 서구 가정로98번길 18</td>\n      <td>(가좌동)</td>\n      <td>http://tong.visitkorea.or.kr/cms/resource/58/2...</td>\n      <td>http://tong.visitkorea.or.kr/cms/resource/58/2...</td>\n      <td>126.673620</td>\n      <td>37.493238</td>\n      <td>NaN</td>\n      <td>감중공원</td>\n    </tr>\n    <tr>\n      <th>17</th>\n      <td>인천광역시 강화군 강화읍 해안동로1366번길 18</td>\n      <td>NaN</td>\n      <td>http://tong.visitkorea.or.kr/cms/resource/72/1...</td>\n      <td>http://tong.visitkorea.or.kr/cms/resource/72/1...</td>\n      <td>126.517114</td>\n      <td>37.733538</td>\n      <td>NaN</td>\n      <td>갑곶돈대</td>\n    </tr>\n    <tr>\n      <th>18</th>\n      <td>인천광역시 강화군 강화읍 해안동로1366번길 35</td>\n      <td>NaN</td>\n      <td>http://tong.visitkorea.or.kr/cms/resource/26/2...</td>\n      <td>http://tong.visitkorea.or.kr/cms/resource/26/2...</td>\n      <td>126.517494</td>\n      <td>37.734196</td>\n      <td>NaN</td>\n      <td>갑곶순교성지</td>\n    </tr>\n    <tr>\n      <th>22</th>\n      <td>인천광역시 강화군 강화읍 동문로 119</td>\n      <td>(강화읍)</td>\n      <td>http://tong.visitkorea.or.kr/cms/resource/80/1...</td>\n      <td>http://tong.visitkorea.or.kr/cms/resource/80/1...</td>\n      <td>126.494854</td>\n      <td>37.754146</td>\n      <td>NaN</td>\n      <td>강화 갑곶리 탱자나무</td>\n    </tr>\n  </tbody>\n</table>\n</div>"
     },
     "execution_count": 11,
     "metadata": {},
     "output_type": "execute_result"
    }
   ],
   "source": [
    "metadata = metadata[['addr1','addr2','firstimage','firstimage2', 'mapx', 'mapy', 'tel', 'title']]\n",
    "metadata.head()"
   ]
  },
  {
   "cell_type": "markdown",
   "metadata": {},
   "source": []
  },
  {
   "cell_type": "code",
   "execution_count": 6,
   "metadata": {
    "ExecuteTime": {
     "end_time": "2023-06-06T14:56:07.888933600Z",
     "start_time": "2023-06-06T14:56:05.559304500Z"
    }
   },
   "outputs": [],
   "source": [
    "# tokenizer = AutoTokenizer.from_pretrained(\"beomi/KcELECTRA-base-v2022\")\n",
    "# model = AutoModel.from_pretrained(\"beomi/KcELECTRA-base-v2022\")\n",
    "model = SentenceTransformer(\"snunlp/KR-SBERT-V40K-klueNLI-augSTS\")"
   ]
  },
  {
   "cell_type": "code",
   "execution_count": 7,
   "outputs": [],
   "source": [
    "metadata['addr1'] = metadata['addr1'].astype(str)"
   ],
   "metadata": {
    "collapsed": false,
    "ExecuteTime": {
     "end_time": "2023-06-06T14:56:09.922757500Z",
     "start_time": "2023-06-06T14:56:09.919074500Z"
    }
   }
  },
  {
   "cell_type": "code",
   "execution_count": 8,
   "metadata": {
    "ExecuteTime": {
     "end_time": "2023-06-06T14:56:22.800385600Z",
     "start_time": "2023-06-06T14:56:12.149025500Z"
    }
   },
   "outputs": [
    {
     "data": {
      "text/plain": "    Unnamed: 0                        addr1  addr2  areacode  booktour cat1   \n11          11      인천광역시 연수구 청량로102번길 40-9    NaN         2       0.0  A02  \\\n16          16          인천광역시 서구 가정로98번길 18  (가좌동)         2       0.0  A02   \n17          17  인천광역시 강화군 강화읍 해안동로1366번길 18    NaN         2       0.0  A02   \n18          18  인천광역시 강화군 강화읍 해안동로1366번길 35    NaN         2       0.0  A02   \n22          22        인천광역시 강화군 강화읍 동문로 119  (강화읍)         2       0.0  A01   \n\n     cat2       cat3  contentid  contenttypeid  ...   \n11  A0206  A02060100     130105             14  ...  \\\n16  A0202  A02020700    2767573             12  ...   \n17  A0201  A02010200    1254680             12  ...   \n18  A0201  A02010900    2768133             12  ...   \n22  A0101  A01010500    1619788             12  ...   \n\n                                          firstimage2        mapx       mapy   \n11  http://tong.visitkorea.or.kr/cms/resource/75/1...  126.657604  37.418224  \\\n16  http://tong.visitkorea.or.kr/cms/resource/58/2...  126.673620  37.493238   \n17  http://tong.visitkorea.or.kr/cms/resource/72/1...  126.517114  37.733538   \n18  http://tong.visitkorea.or.kr/cms/resource/26/2...  126.517494  37.734196   \n22  http://tong.visitkorea.or.kr/cms/resource/80/1...  126.494854  37.754146   \n\n    mlevel  modifiedtime  sigungucode           tel        title zipcode   \n11     6.0  2.022070e+13            8  032-833-4747        가천박물관   21942  \\\n16     6.0  2.022120e+13            7           NaN         감중공원   22838   \n17     6.0  2.022050e+13            1           NaN         갑곶돈대   23027   \n18     6.0  2.022100e+13            1           NaN       갑곶순교성지   23027   \n22     6.0  2.022060e+13            1           NaN  강화 갑곶리 탱자나무   23022   \n\n                                              addr_em  \n11  [-0.6274227, -0.2258779, -0.5644354, 0.1303640...  \n16  [-0.9867481, -0.0023858547, -0.44634286, 0.378...  \n17  [-0.33432502, 0.73459154, -1.0436915, 0.563864...  \n18  [0.06275128, 0.20978412, -0.5320568, 0.4413536...  \n22  [-0.3749388, 0.46581152, -0.56632894, 0.372161...  \n\n[5 rows x 22 columns]",
      "text/html": "<div>\n<style scoped>\n    .dataframe tbody tr th:only-of-type {\n        vertical-align: middle;\n    }\n\n    .dataframe tbody tr th {\n        vertical-align: top;\n    }\n\n    .dataframe thead th {\n        text-align: right;\n    }\n</style>\n<table border=\"1\" class=\"dataframe\">\n  <thead>\n    <tr style=\"text-align: right;\">\n      <th></th>\n      <th>Unnamed: 0</th>\n      <th>addr1</th>\n      <th>addr2</th>\n      <th>areacode</th>\n      <th>booktour</th>\n      <th>cat1</th>\n      <th>cat2</th>\n      <th>cat3</th>\n      <th>contentid</th>\n      <th>contenttypeid</th>\n      <th>...</th>\n      <th>firstimage2</th>\n      <th>mapx</th>\n      <th>mapy</th>\n      <th>mlevel</th>\n      <th>modifiedtime</th>\n      <th>sigungucode</th>\n      <th>tel</th>\n      <th>title</th>\n      <th>zipcode</th>\n      <th>addr_em</th>\n    </tr>\n  </thead>\n  <tbody>\n    <tr>\n      <th>11</th>\n      <td>11</td>\n      <td>인천광역시 연수구 청량로102번길 40-9</td>\n      <td>NaN</td>\n      <td>2</td>\n      <td>0.0</td>\n      <td>A02</td>\n      <td>A0206</td>\n      <td>A02060100</td>\n      <td>130105</td>\n      <td>14</td>\n      <td>...</td>\n      <td>http://tong.visitkorea.or.kr/cms/resource/75/1...</td>\n      <td>126.657604</td>\n      <td>37.418224</td>\n      <td>6.0</td>\n      <td>2.022070e+13</td>\n      <td>8</td>\n      <td>032-833-4747</td>\n      <td>가천박물관</td>\n      <td>21942</td>\n      <td>[-0.6274227, -0.2258779, -0.5644354, 0.1303640...</td>\n    </tr>\n    <tr>\n      <th>16</th>\n      <td>16</td>\n      <td>인천광역시 서구 가정로98번길 18</td>\n      <td>(가좌동)</td>\n      <td>2</td>\n      <td>0.0</td>\n      <td>A02</td>\n      <td>A0202</td>\n      <td>A02020700</td>\n      <td>2767573</td>\n      <td>12</td>\n      <td>...</td>\n      <td>http://tong.visitkorea.or.kr/cms/resource/58/2...</td>\n      <td>126.673620</td>\n      <td>37.493238</td>\n      <td>6.0</td>\n      <td>2.022120e+13</td>\n      <td>7</td>\n      <td>NaN</td>\n      <td>감중공원</td>\n      <td>22838</td>\n      <td>[-0.9867481, -0.0023858547, -0.44634286, 0.378...</td>\n    </tr>\n    <tr>\n      <th>17</th>\n      <td>17</td>\n      <td>인천광역시 강화군 강화읍 해안동로1366번길 18</td>\n      <td>NaN</td>\n      <td>2</td>\n      <td>0.0</td>\n      <td>A02</td>\n      <td>A0201</td>\n      <td>A02010200</td>\n      <td>1254680</td>\n      <td>12</td>\n      <td>...</td>\n      <td>http://tong.visitkorea.or.kr/cms/resource/72/1...</td>\n      <td>126.517114</td>\n      <td>37.733538</td>\n      <td>6.0</td>\n      <td>2.022050e+13</td>\n      <td>1</td>\n      <td>NaN</td>\n      <td>갑곶돈대</td>\n      <td>23027</td>\n      <td>[-0.33432502, 0.73459154, -1.0436915, 0.563864...</td>\n    </tr>\n    <tr>\n      <th>18</th>\n      <td>18</td>\n      <td>인천광역시 강화군 강화읍 해안동로1366번길 35</td>\n      <td>NaN</td>\n      <td>2</td>\n      <td>0.0</td>\n      <td>A02</td>\n      <td>A0201</td>\n      <td>A02010900</td>\n      <td>2768133</td>\n      <td>12</td>\n      <td>...</td>\n      <td>http://tong.visitkorea.or.kr/cms/resource/26/2...</td>\n      <td>126.517494</td>\n      <td>37.734196</td>\n      <td>6.0</td>\n      <td>2.022100e+13</td>\n      <td>1</td>\n      <td>NaN</td>\n      <td>갑곶순교성지</td>\n      <td>23027</td>\n      <td>[0.06275128, 0.20978412, -0.5320568, 0.4413536...</td>\n    </tr>\n    <tr>\n      <th>22</th>\n      <td>22</td>\n      <td>인천광역시 강화군 강화읍 동문로 119</td>\n      <td>(강화읍)</td>\n      <td>2</td>\n      <td>0.0</td>\n      <td>A01</td>\n      <td>A0101</td>\n      <td>A01010500</td>\n      <td>1619788</td>\n      <td>12</td>\n      <td>...</td>\n      <td>http://tong.visitkorea.or.kr/cms/resource/80/1...</td>\n      <td>126.494854</td>\n      <td>37.754146</td>\n      <td>6.0</td>\n      <td>2.022060e+13</td>\n      <td>1</td>\n      <td>NaN</td>\n      <td>강화 갑곶리 탱자나무</td>\n      <td>23022</td>\n      <td>[-0.3749388, 0.46581152, -0.56632894, 0.372161...</td>\n    </tr>\n  </tbody>\n</table>\n<p>5 rows × 22 columns</p>\n</div>"
     },
     "execution_count": 8,
     "metadata": {},
     "output_type": "execute_result"
    }
   ],
   "source": [
    "metadata['addr_em'] = metadata['addr1'].apply(lambda x: model.encode(x))\n",
    "metadata.head()"
   ]
  },
  {
   "cell_type": "code",
   "execution_count": 9,
   "outputs": [],
   "source": [
    "metadata.to_csv('./tourInfo_em.csv')"
   ],
   "metadata": {
    "collapsed": false,
    "ExecuteTime": {
     "end_time": "2023-06-06T14:56:28.357854500Z",
     "start_time": "2023-06-06T14:56:26.288039400Z"
    }
   }
  },
  {
   "cell_type": "code",
   "execution_count": 10,
   "metadata": {
    "ExecuteTime": {
     "end_time": "2023-06-06T14:56:30.457991Z",
     "start_time": "2023-06-06T14:56:30.454487200Z"
    }
   },
   "outputs": [],
   "source": [
    "top_k=5"
   ]
  },
  {
   "cell_type": "code",
   "execution_count": 25,
   "outputs": [],
   "source": [
    "def get_query_sim_top_k(query, model, df, top_k):\n",
    "    query_encode = model.encode(query)\n",
    "    df_array = np.array(metadata['addr_em'].tolist())\n",
    "    df_tensor = torch.tensor(df_array)\n",
    "    cos_scores = util.pytorch_cos_sim(query_encode, df_tensor)[0]\n",
    "    top_results = torch.topk(cos_scores, k=top_k)\n",
    "    return top_results"
   ],
   "metadata": {
    "collapsed": false,
    "ExecuteTime": {
     "end_time": "2023-06-06T15:06:48.306156400Z",
     "start_time": "2023-06-06T15:06:48.293853800Z"
    }
   }
  },
  {
   "cell_type": "code",
   "execution_count": 26,
   "outputs": [],
   "source": [
    "query = '부평구에 뭐가 있어'\n",
    "top_results = get_query_sim_top_k(query, model, metadata, top_k)"
   ],
   "metadata": {
    "collapsed": false,
    "ExecuteTime": {
     "end_time": "2023-06-06T15:06:50.032640700Z",
     "start_time": "2023-06-06T15:06:49.962299900Z"
    }
   }
  },
  {
   "cell_type": "code",
   "execution_count": 27,
   "outputs": [
    {
     "data": {
      "text/plain": "torch.return_types.topk(\nvalues=tensor([0.6119, 0.5971, 0.5942, 0.5874, 0.5807]),\nindices=tensor([175, 174, 213, 163, 249]))"
     },
     "execution_count": 27,
     "metadata": {},
     "output_type": "execute_result"
    }
   ],
   "source": [
    "top_results"
   ],
   "metadata": {
    "collapsed": false,
    "ExecuteTime": {
     "end_time": "2023-06-06T15:06:51.807625Z",
     "start_time": "2023-06-06T15:06:51.778964500Z"
    }
   }
  },
  {
   "cell_type": "code",
   "execution_count": 28,
   "outputs": [
    {
     "data": {
      "text/plain": "array(['부평공원', '부평 해물탕거리', '세어도', '백운공원', '신트리공원'], dtype=object)"
     },
     "execution_count": 28,
     "metadata": {},
     "output_type": "execute_result"
    }
   ],
   "source": [
    "metadata.iloc[top_results[1].numpy(), :]['title'].values"
   ],
   "metadata": {
    "collapsed": false,
    "ExecuteTime": {
     "end_time": "2023-06-06T15:06:54.016275200Z",
     "start_time": "2023-06-06T15:06:54.000377200Z"
    }
   }
  },
  {
   "cell_type": "code",
   "execution_count": 29,
   "outputs": [
    {
     "data": {
      "text/plain": "array(['국사봉(인천)', '실미해수욕장', '왕산해수욕장', '재미난 박물관', '영종진공원'], dtype=object)"
     },
     "execution_count": 29,
     "metadata": {},
     "output_type": "execute_result"
    }
   ],
   "source": [
    "query = \"중구에 뭐가 있어\"\n",
    "top_results = get_query_sim_top_k(query, model, metadata, top_k)\n",
    "metadata.iloc[top_results[1].numpy(), :]['title'].values"
   ],
   "metadata": {
    "collapsed": false,
    "ExecuteTime": {
     "end_time": "2023-06-06T15:07:00.186201600Z",
     "start_time": "2023-06-06T15:07:00.112120200Z"
    }
   }
  },
  {
   "cell_type": "code",
   "execution_count": 30,
   "outputs": [
    {
     "data": {
      "text/plain": "array(['인천수봉문화회관', '은율탈춤전수관', '인천통일관', '수봉공원', '주인근린공원'], dtype=object)"
     },
     "execution_count": 30,
     "metadata": {},
     "output_type": "execute_result"
    }
   ],
   "source": [
    "query = \"미추홀구에 갈만한 곳 뭐 있을까\"\n",
    "top_results = get_query_sim_top_k(query, model, metadata, top_k)\n",
    "metadata.iloc[top_results[1].numpy(), :]['title'].values"
   ],
   "metadata": {
    "collapsed": false,
    "ExecuteTime": {
     "end_time": "2023-06-06T15:07:03.346141Z",
     "start_time": "2023-06-06T15:07:03.271642900Z"
    }
   }
  },
  {
   "cell_type": "raw",
   "source": [
    "ChatGPT API 사용"
   ],
   "metadata": {
    "collapsed": false
   }
  },
  {
   "cell_type": "raw",
   "source": [
    "Prompt Test"
   ],
   "metadata": {
    "collapsed": false
   }
  },
  {
   "cell_type": "code",
   "execution_count": 73,
   "outputs": [],
   "source": [
    "def chat_msg(msg):\n",
    "    completion = openai.ChatCompletion.create(\n",
    "        model=\"gpt-3.5-turbo\",\n",
    "        messages=msg\n",
    "    )\n",
    "    return completion.choices[0].message.content"
   ],
   "metadata": {
    "collapsed": false,
    "ExecuteTime": {
     "end_time": "2023-06-06T16:14:47.164453800Z",
     "start_time": "2023-06-06T16:14:47.154196300Z"
    }
   }
  },
  {
   "cell_type": "code",
   "execution_count": 74,
   "outputs": [],
   "source": [
    "messages = [\n",
    "    {\"role\":\"system\", \"content\":\"너는 인천 여행 가이드야. 인천 여행 가이드라고 소개하고 모르는 답변이 있으면 고객센터 1234-5678로 연락달라 그래.\"},\n",
    "    {\"role\":\"user\", \"content\":\"인천에 추천할 만한 여행지 알려줘\"}\n",
    "]"
   ],
   "metadata": {
    "collapsed": false,
    "ExecuteTime": {
     "end_time": "2023-06-06T16:14:49.117821200Z",
     "start_time": "2023-06-06T16:14:49.098843600Z"
    }
   }
  },
  {
   "cell_type": "code",
   "execution_count": 75,
   "outputs": [
    {
     "name": "stdout",
     "output_type": "stream",
     "text": [
      "네, 인천에는 다양한 여행지가 있습니다. 몇 가지 추천해드릴게요.\n",
      "\n",
      "1. 인천 차이나타운\n",
      "인천 중구 영종시장에 위치한 차이나타운은 중국 문화와 요리를 경험할 수 있는 곳입니다. 중국식 거리음식도 즐길 수 있어요.\n",
      "\n",
      "2. 인천 차이나타운 문화공원\n",
      "인천 차이나타운 안에 위치한 이곳은 중국의 전통 건축과 정원을 볼 수 있는 공원입니다.\n",
      "\n",
      "3. 월미도\n",
      "월미도는 인천시 남동구에 있는 섬으로 유람선이나 배를 타고 가는 것이 가능하며, 바다에서 자유로운 분위기를 느낄 수 있습니다.\n",
      "\n",
      "4. 송도 센트럴파크\n",
      "송도의 대표적인 공원인 센트럴파크는 경치가 좋아 사람들의 인기를 끌고 있습니다. 또한, 송도의 패션문화거리나 인천 아시아드주 경기장을 산책하며 관광할 수 있습니다.\n",
      "\n",
      "5. 인천대공원\n",
      "인천의 대표적인 공원으로, 조계사 사찰, 자연사박물관, 수목원 등 다양한 관광지가 있습니다.\n",
      "\n",
      "이 외에도 인천 타임스퀘어, 인천국제공항 스카이라이프, 해운대 유람선 터미널 등 다양한 관광지가 있습니다. 해당 정보가 도움이 되셨길 바랍니다.\n"
     ]
    }
   ],
   "source": [
    "print(chat_msg(messages))"
   ],
   "metadata": {
    "collapsed": false,
    "ExecuteTime": {
     "end_time": "2023-06-06T16:15:42.327001300Z",
     "start_time": "2023-06-06T16:14:57.113245Z"
    }
   }
  },
  {
   "cell_type": "code",
   "execution_count": 67,
   "outputs": [],
   "source": [],
   "metadata": {
    "collapsed": false,
    "ExecuteTime": {
     "end_time": "2023-06-06T16:12:25.657628800Z",
     "start_time": "2023-06-06T16:12:25.640807900Z"
    }
   }
  },
  {
   "cell_type": "code",
   "execution_count": null,
   "outputs": [],
   "source": [],
   "metadata": {
    "collapsed": false
   }
  }
 ],
 "metadata": {
  "kernelspec": {
   "display_name": "Python 3 (ipykernel)",
   "language": "python",
   "name": "python3"
  },
  "language_info": {
   "codemirror_mode": {
    "name": "ipython",
    "version": 3
   },
   "file_extension": ".py",
   "mimetype": "text/x-python",
   "name": "python",
   "nbconvert_exporter": "python",
   "pygments_lexer": "ipython3",
   "version": "3.11.0"
  }
 },
 "nbformat": 4,
 "nbformat_minor": 1
}
